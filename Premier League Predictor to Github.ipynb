{
 "cells": [
  {
   "cell_type": "code",
   "execution_count": 1,
   "id": "49057053-1f25-49cc-bd77-cdf6c07e45b2",
   "metadata": {},
   "outputs": [],
   "source": [
    "#  Import relevant libraries\n",
    "\n",
    "import pandas as pd\n",
    "import numpy as np\n",
    "import os\n",
    "from sklearn.model_selection import train_test_split\n",
    "from sklearn.preprocessing import StandardScaler, LabelEncoder, OneHotEncoder\n",
    "from sklearn.compose import ColumnTransformer\n",
    "from sklearn.pipeline import Pipeline\n",
    "from sklearn.ensemble import RandomForestClassifier\n",
    "from sklearn.metrics import classification_report, confusion_matrix\n",
    "import matplotlib.pyplot as plt"
   ]
  },
  {
   "cell_type": "code",
   "execution_count": 2,
   "id": "d12312ef-389b-4806-96cf-1f073f646944",
   "metadata": {},
   "outputs": [
    {
     "data": {
      "text/html": [
       "<div>\n",
       "<style scoped>\n",
       "    .dataframe tbody tr th:only-of-type {\n",
       "        vertical-align: middle;\n",
       "    }\n",
       "\n",
       "    .dataframe tbody tr th {\n",
       "        vertical-align: top;\n",
       "    }\n",
       "\n",
       "    .dataframe thead th {\n",
       "        text-align: right;\n",
       "    }\n",
       "</style>\n",
       "<table border=\"1\" class=\"dataframe\">\n",
       "  <thead>\n",
       "    <tr style=\"text-align: right;\">\n",
       "      <th></th>\n",
       "      <th>Squad Value</th>\n",
       "      <th>Net Summer Transfer Spend</th>\n",
       "      <th>Retained Manager?</th>\n",
       "      <th>Average Attendance</th>\n",
       "      <th>Wage Bill</th>\n",
       "      <th>Retained Captain?</th>\n",
       "      <th>Previous Season Disciplinary Points</th>\n",
       "      <th>Net Number of Transfers</th>\n",
       "      <th>Previous Season Goal Difference</th>\n",
       "      <th>Previous Season Position</th>\n",
       "      <th>Position Bin</th>\n",
       "      <th>Games Played</th>\n",
       "      <th>Number of Managers employed in the season</th>\n",
       "    </tr>\n",
       "  </thead>\n",
       "  <tbody>\n",
       "    <tr>\n",
       "      <th>0</th>\n",
       "      <td>580750000</td>\n",
       "      <td>71050000</td>\n",
       "      <td>0</td>\n",
       "      <td>59989</td>\n",
       "      <td>135360000</td>\n",
       "      <td>0</td>\n",
       "      <td>67</td>\n",
       "      <td>0</td>\n",
       "      <td>23</td>\n",
       "      <td>6</td>\n",
       "      <td>2</td>\n",
       "      <td>58</td>\n",
       "      <td>1</td>\n",
       "    </tr>\n",
       "    <tr>\n",
       "      <th>1</th>\n",
       "      <td>604250000</td>\n",
       "      <td>107150000</td>\n",
       "      <td>1</td>\n",
       "      <td>60279</td>\n",
       "      <td>118540000</td>\n",
       "      <td>0</td>\n",
       "      <td>79</td>\n",
       "      <td>-3</td>\n",
       "      <td>22</td>\n",
       "      <td>5</td>\n",
       "      <td>1</td>\n",
       "      <td>54</td>\n",
       "      <td>2</td>\n",
       "    </tr>\n",
       "    <tr>\n",
       "      <th>2</th>\n",
       "      <td>540800000</td>\n",
       "      <td>57140000</td>\n",
       "      <td>1</td>\n",
       "      <td>10000</td>\n",
       "      <td>147450000</td>\n",
       "      <td>1</td>\n",
       "      <td>108</td>\n",
       "      <td>5</td>\n",
       "      <td>8</td>\n",
       "      <td>8</td>\n",
       "      <td>1</td>\n",
       "      <td>54</td>\n",
       "      <td>1</td>\n",
       "    </tr>\n",
       "    <tr>\n",
       "      <th>3</th>\n",
       "      <td>521000000</td>\n",
       "      <td>116250000</td>\n",
       "      <td>1</td>\n",
       "      <td>59763</td>\n",
       "      <td>114370000</td>\n",
       "      <td>0</td>\n",
       "      <td>68</td>\n",
       "      <td>4</td>\n",
       "      <td>16</td>\n",
       "      <td>8</td>\n",
       "      <td>2</td>\n",
       "      <td>45</td>\n",
       "      <td>1</td>\n",
       "    </tr>\n",
       "    <tr>\n",
       "      <th>4</th>\n",
       "      <td>935000000</td>\n",
       "      <td>144080000</td>\n",
       "      <td>1</td>\n",
       "      <td>60186</td>\n",
       "      <td>101660000</td>\n",
       "      <td>0</td>\n",
       "      <td>72</td>\n",
       "      <td>1</td>\n",
       "      <td>13</td>\n",
       "      <td>5</td>\n",
       "      <td>2</td>\n",
       "      <td>54</td>\n",
       "      <td>1</td>\n",
       "    </tr>\n",
       "  </tbody>\n",
       "</table>\n",
       "</div>"
      ],
      "text/plain": [
       "   Squad Value  Net Summer Transfer Spend  Retained Manager?  \\\n",
       "0    580750000                   71050000                  0   \n",
       "1    604250000                  107150000                  1   \n",
       "2    540800000                   57140000                  1   \n",
       "3    521000000                  116250000                  1   \n",
       "4    935000000                  144080000                  1   \n",
       "\n",
       "   Average Attendance  Wage Bill  Retained Captain?  \\\n",
       "0               59989  135360000                  0   \n",
       "1               60279  118540000                  0   \n",
       "2               10000  147450000                  1   \n",
       "3               59763  114370000                  0   \n",
       "4               60186  101660000                  0   \n",
       "\n",
       "   Previous Season Disciplinary Points  Net Number of Transfers  \\\n",
       "0                                   67                        0   \n",
       "1                                   79                       -3   \n",
       "2                                  108                        5   \n",
       "3                                   68                        4   \n",
       "4                                   72                        1   \n",
       "\n",
       "   Previous Season Goal Difference  Previous Season Position  Position Bin  \\\n",
       "0                               23                         6             2   \n",
       "1                               22                         5             1   \n",
       "2                                8                         8             1   \n",
       "3                               16                         8             2   \n",
       "4                               13                         5             2   \n",
       "\n",
       "   Games Played  Number of Managers employed in the season  \n",
       "0            58                                          1  \n",
       "1            54                                          2  \n",
       "2            54                                          1  \n",
       "3            45                                          1  \n",
       "4            54                                          1  "
      ]
     },
     "metadata": {},
     "output_type": "display_data"
    },
    {
     "name": "stdout",
     "output_type": "stream",
     "text": [
      "Original data types:\n",
      "Squad Value                                  int64\n",
      "Net Summer Transfer Spend                    int64\n",
      "Retained Manager?                            int64\n",
      "Average Attendance                           int64\n",
      "Wage Bill                                    int64\n",
      "Retained Captain?                            int64\n",
      "Previous Season Disciplinary Points          int64\n",
      "Net Number of Transfers                      int64\n",
      "Previous Season Goal Difference              int64\n",
      "Previous Season Position                     int64\n",
      "Position Bin                                 int64\n",
      "Games Played                                 int64\n",
      "Number of Managers employed in the season    int64\n",
      "dtype: object\n"
     ]
    }
   ],
   "source": [
    "#  Check collected data\n",
    "\n",
    "# Access raw data\n",
    "\n",
    "file_path = os.path.expanduser('~/Desktop/PremierLeagueStats.csv')\n",
    "\n",
    "# Read the CSV file\n",
    "\n",
    "data = pd.read_csv(file_path)\n",
    "\n",
    "# Drop the Season End column\n",
    "\n",
    "data = data.drop('Season End', axis=1)\n",
    "\n",
    "# Drop the Team column\n",
    "\n",
    "data = data.drop('Team', axis=1)\n",
    "\n",
    "# Drop the Average Distance to Away Games column\n",
    "\n",
    "data = data.drop('Average Distance to Away Games', axis=1)\n",
    "\n",
    "# Display the first few rows to verify it's loaded correctly\n",
    "\n",
    "display(data.head())\n",
    "\n",
    "print(\"Original data types:\")\n",
    "\n",
    "print(data.dtypes)"
   ]
  },
  {
   "cell_type": "code",
   "execution_count": 3,
   "id": "6327c4a0-c097-4856-99ed-096c0d718e39",
   "metadata": {},
   "outputs": [
    {
     "name": "stdout",
     "output_type": "stream",
     "text": [
      "Problematic columns: []\n",
      "Numeric features: ['Squad Value', 'Net Summer Transfer Spend', 'Retained Manager?', 'Average Attendance', 'Wage Bill', 'Retained Captain?', 'Previous Season Disciplinary Points', 'Net Number of Transfers', 'Previous Season Goal Difference', 'Previous Season Position', 'Position Bin', 'Games Played', 'Number of Managers employed in the season']\n",
      "Categorical features: []\n",
      "No categorical features found. Adjusting preprocessor.\n"
     ]
    }
   ],
   "source": [
    "#  Preprocessing\n",
    "\n",
    "# Function to identify problematic columns\n",
    "\n",
    "def identify_mixed_type_columns(df):\n",
    "    mixed_type_columns = []\n",
    "    for column in df.columns:\n",
    "        if df[column].dtype == 'object':\n",
    "            try:\n",
    "                pd.to_numeric(df[column])\n",
    "            except ValueError:\n",
    "                if df[column].str.contains(',').any(): \n",
    "                    mixed_type_columns.append(column)\n",
    "    return mixed_type_columns\n",
    "\n",
    "# Identify problematic columns\n",
    "\n",
    "problematic_columns = identify_mixed_type_columns(data)\n",
    "print(\"Problematic columns:\", problematic_columns)\n",
    "\n",
    "# Handle problematic columns\n",
    "\n",
    "for column in problematic_columns:\n",
    "    data[column] = data[column].str.replace(',', '') \n",
    "    data[column] = pd.to_numeric(data[column], errors='coerce') \n",
    "\n",
    "# Identify numeric and categorical columns\n",
    "\n",
    "numeric_features = data.select_dtypes(include=['int64', 'float64']).columns.tolist()\n",
    "\n",
    "categorical_features = data.select_dtypes(include=['object']).columns.tolist()\n",
    "\n",
    "# After identifying numeric and categorical features\n",
    "\n",
    "print(\"Numeric features:\", numeric_features)\n",
    "\n",
    "print(\"Categorical features:\", categorical_features)\n",
    "\n",
    "# Create preprocessing steps\n",
    "\n",
    "numeric_transformer = Pipeline(steps=[\n",
    "    ('scaler', StandardScaler())\n",
    "])\n",
    "\n",
    "categorical_transformer = Pipeline(steps=[\n",
    "    ('onehot', OneHotEncoder(drop='first', sparse=False, handle_unknown='ignore'))\n",
    "])\n",
    "\n",
    "# Check if there are any categorical features\n",
    "\n",
    "if len(categorical_features) == 0:\n",
    "    print(\"No categorical features found. Adjusting preprocessor.\")\n",
    "    preprocessor = ColumnTransformer(\n",
    "        transformers=[\n",
    "            ('num', numeric_transformer, numeric_features)\n",
    "        ])\n",
    "else:\n",
    "    preprocessor = ColumnTransformer(\n",
    "        transformers=[\n",
    "            ('num', numeric_transformer, numeric_features),\n",
    "            ('cat', categorical_transformer, categorical_features)\n",
    "        ])\n",
    "\n",
    "# Remove 'Position Bin' from features if it's present\n",
    "\n",
    "if 'Position Bin' in numeric_features:\n",
    "    numeric_features.remove('Position Bin')\n",
    "\n",
    "if 'Position Bin' in categorical_features:\n",
    "    categorical_features.remove('Position Bin')\n",
    "\n",
    "# Create preprocessing steps\n",
    "\n",
    "numeric_transformer = Pipeline(steps=[\n",
    "    ('scaler', StandardScaler())\n",
    "])\n",
    "\n",
    "categorical_transformer = Pipeline(steps=[\n",
    "    ('onehot', OneHotEncoder(drop='first', sparse=False, handle_unknown='ignore'))\n",
    "])\n",
    "\n",
    "preprocessor = ColumnTransformer(\n",
    "    transformers=[\n",
    "        ('num', numeric_transformer, numeric_features),\n",
    "        ('cat', categorical_transformer, categorical_features)\n",
    "    ])"
   ]
  },
  {
   "cell_type": "code",
   "execution_count": 4,
   "id": "078550a2-4129-4c69-991c-f0d09b61126b",
   "metadata": {},
   "outputs": [],
   "source": [
    "# Prepare the features and target\n",
    "\n",
    "X = data.drop('Position Bin', axis=1)\n",
    "y = data['Position Bin']"
   ]
  },
  {
   "cell_type": "code",
   "execution_count": 5,
   "id": "aad3b660-a403-494c-b003-9e7e824fefb9",
   "metadata": {},
   "outputs": [],
   "source": [
    "# Encode target variable\n",
    "\n",
    "le = LabelEncoder()\n",
    "y = le.fit_transform(y)"
   ]
  },
  {
   "cell_type": "code",
   "execution_count": 6,
   "id": "c2b5329c-5899-4ef8-92de-54cb7f3937de",
   "metadata": {},
   "outputs": [],
   "source": [
    "# Split the data\n",
    "\n",
    "X_train, X_test, y_train, y_test = train_test_split(X, y, test_size=0.2, random_state=42)"
   ]
  },
  {
   "cell_type": "code",
   "execution_count": 7,
   "id": "16d748d4-ab76-4fce-b4c8-6eb01a794171",
   "metadata": {},
   "outputs": [],
   "source": [
    "# Fit the preprocessor on the training data and transform both training and test data\n",
    "\n",
    "X_train_preprocessed = preprocessor.fit_transform(X_train)\n",
    "\n",
    "X_test_preprocessed = preprocessor.transform(X_test)"
   ]
  },
  {
   "cell_type": "code",
   "execution_count": 8,
   "id": "21eb187b-f3c6-44ff-8baa-bacadba33128",
   "metadata": {},
   "outputs": [],
   "source": [
    "# Get feature names after preprocessing\n",
    "\n",
    "feature_names = numeric_features.copy()\n",
    "if len(categorical_features) > 0:\n",
    "    onehot_encoder = preprocessor.named_transformers_['cat'].named_steps['onehot']\n",
    "    cat_feature_names = onehot_encoder.get_feature_names_out(categorical_features).tolist()\n",
    "    feature_names += cat_feature_names\n"
   ]
  },
  {
   "cell_type": "code",
   "execution_count": 9,
   "id": "7229b167-032c-4cec-8159-06820a64291c",
   "metadata": {},
   "outputs": [],
   "source": [
    "# Convert to DataFrames\n",
    "\n",
    "X_train_preprocessed = pd.DataFrame(X_train_preprocessed, columns=feature_names)\n",
    "\n",
    "X_test_preprocessed = pd.DataFrame(X_test_preprocessed, columns=feature_names)"
   ]
  },
  {
   "cell_type": "code",
   "execution_count": 10,
   "id": "39308530-eccb-46ef-87ac-407c2b08ab2a",
   "metadata": {},
   "outputs": [
    {
     "name": "stdout",
     "output_type": "stream",
     "text": [
      "Preprocessing complete. Ready for model training.\n",
      "Training set shape: (96, 12)\n",
      "Testing set shape: (24, 12)\n"
     ]
    }
   ],
   "source": [
    "print(\"Preprocessing complete. Ready for model training.\")\n",
    "\n",
    "print(f\"Training set shape: {X_train_preprocessed.shape}\")\n",
    "\n",
    "print(f\"Testing set shape: {X_test_preprocessed.shape}\")"
   ]
  },
  {
   "cell_type": "code",
   "execution_count": 11,
   "id": "cb53ca2a-6bd7-4cdc-8950-d7232bd8bf41",
   "metadata": {},
   "outputs": [
    {
     "data": {
      "text/plain": [
       "'\\nSample of preprocessed features (training set):'"
      ]
     },
     "metadata": {},
     "output_type": "display_data"
    },
    {
     "data": {
      "text/html": [
       "<div>\n",
       "<style scoped>\n",
       "    .dataframe tbody tr th:only-of-type {\n",
       "        vertical-align: middle;\n",
       "    }\n",
       "\n",
       "    .dataframe tbody tr th {\n",
       "        vertical-align: top;\n",
       "    }\n",
       "\n",
       "    .dataframe thead th {\n",
       "        text-align: right;\n",
       "    }\n",
       "</style>\n",
       "<table border=\"1\" class=\"dataframe\">\n",
       "  <thead>\n",
       "    <tr style=\"text-align: right;\">\n",
       "      <th></th>\n",
       "      <th>Squad Value</th>\n",
       "      <th>Net Summer Transfer Spend</th>\n",
       "      <th>Retained Manager?</th>\n",
       "      <th>Average Attendance</th>\n",
       "      <th>Wage Bill</th>\n",
       "      <th>Retained Captain?</th>\n",
       "      <th>Previous Season Disciplinary Points</th>\n",
       "      <th>Net Number of Transfers</th>\n",
       "      <th>Previous Season Goal Difference</th>\n",
       "      <th>Previous Season Position</th>\n",
       "      <th>Games Played</th>\n",
       "      <th>Number of Managers employed in the season</th>\n",
       "    </tr>\n",
       "  </thead>\n",
       "  <tbody>\n",
       "    <tr>\n",
       "      <th>0</th>\n",
       "      <td>-0.014788</td>\n",
       "      <td>0.016174</td>\n",
       "      <td>0.56131</td>\n",
       "      <td>0.278806</td>\n",
       "      <td>0.022644</td>\n",
       "      <td>0.690596</td>\n",
       "      <td>-0.788917</td>\n",
       "      <td>-0.078975</td>\n",
       "      <td>-0.687129</td>\n",
       "      <td>-0.295186</td>\n",
       "      <td>-0.709064</td>\n",
       "      <td>-0.603023</td>\n",
       "    </tr>\n",
       "    <tr>\n",
       "      <th>1</th>\n",
       "      <td>-0.602514</td>\n",
       "      <td>-0.417240</td>\n",
       "      <td>0.56131</td>\n",
       "      <td>-1.145939</td>\n",
       "      <td>-0.835025</td>\n",
       "      <td>0.690596</td>\n",
       "      <td>-0.458769</td>\n",
       "      <td>0.580297</td>\n",
       "      <td>-0.687129</td>\n",
       "      <td>0.747925</td>\n",
       "      <td>-0.964966</td>\n",
       "      <td>-0.603023</td>\n",
       "    </tr>\n",
       "    <tr>\n",
       "      <th>2</th>\n",
       "      <td>-0.742166</td>\n",
       "      <td>-0.330148</td>\n",
       "      <td>0.56131</td>\n",
       "      <td>-0.826905</td>\n",
       "      <td>-1.254789</td>\n",
       "      <td>-1.448024</td>\n",
       "      <td>-0.854947</td>\n",
       "      <td>0.909933</td>\n",
       "      <td>-1.530008</td>\n",
       "      <td>1.791035</td>\n",
       "      <td>-0.581112</td>\n",
       "      <td>-0.603023</td>\n",
       "    </tr>\n",
       "    <tr>\n",
       "      <th>3</th>\n",
       "      <td>-0.602443</td>\n",
       "      <td>0.212600</td>\n",
       "      <td>0.56131</td>\n",
       "      <td>-0.121273</td>\n",
       "      <td>-0.937157</td>\n",
       "      <td>-1.448024</td>\n",
       "      <td>0.729766</td>\n",
       "      <td>1.239569</td>\n",
       "      <td>1.401744</td>\n",
       "      <td>-1.512148</td>\n",
       "      <td>0.570450</td>\n",
       "      <td>-0.603023</td>\n",
       "    </tr>\n",
       "    <tr>\n",
       "      <th>4</th>\n",
       "      <td>1.031982</td>\n",
       "      <td>-0.121792</td>\n",
       "      <td>0.56131</td>\n",
       "      <td>-1.171406</td>\n",
       "      <td>2.153176</td>\n",
       "      <td>0.690596</td>\n",
       "      <td>0.003439</td>\n",
       "      <td>1.239569</td>\n",
       "      <td>0.925334</td>\n",
       "      <td>-1.164444</td>\n",
       "      <td>1.849963</td>\n",
       "      <td>-0.603023</td>\n",
       "    </tr>\n",
       "  </tbody>\n",
       "</table>\n",
       "</div>"
      ],
      "text/plain": [
       "   Squad Value  Net Summer Transfer Spend  Retained Manager?  \\\n",
       "0    -0.014788                   0.016174            0.56131   \n",
       "1    -0.602514                  -0.417240            0.56131   \n",
       "2    -0.742166                  -0.330148            0.56131   \n",
       "3    -0.602443                   0.212600            0.56131   \n",
       "4     1.031982                  -0.121792            0.56131   \n",
       "\n",
       "   Average Attendance  Wage Bill  Retained Captain?  \\\n",
       "0            0.278806   0.022644           0.690596   \n",
       "1           -1.145939  -0.835025           0.690596   \n",
       "2           -0.826905  -1.254789          -1.448024   \n",
       "3           -0.121273  -0.937157          -1.448024   \n",
       "4           -1.171406   2.153176           0.690596   \n",
       "\n",
       "   Previous Season Disciplinary Points  Net Number of Transfers  \\\n",
       "0                            -0.788917                -0.078975   \n",
       "1                            -0.458769                 0.580297   \n",
       "2                            -0.854947                 0.909933   \n",
       "3                             0.729766                 1.239569   \n",
       "4                             0.003439                 1.239569   \n",
       "\n",
       "   Previous Season Goal Difference  Previous Season Position  Games Played  \\\n",
       "0                        -0.687129                 -0.295186     -0.709064   \n",
       "1                        -0.687129                  0.747925     -0.964966   \n",
       "2                        -1.530008                  1.791035     -0.581112   \n",
       "3                         1.401744                 -1.512148      0.570450   \n",
       "4                         0.925334                 -1.164444      1.849963   \n",
       "\n",
       "   Number of Managers employed in the season  \n",
       "0                                  -0.603023  \n",
       "1                                  -0.603023  \n",
       "2                                  -0.603023  \n",
       "3                                  -0.603023  \n",
       "4                                  -0.603023  "
      ]
     },
     "metadata": {},
     "output_type": "display_data"
    }
   ],
   "source": [
    "# Display sample of preprocessed features to verify\n",
    "\n",
    "display(\"\\nSample of preprocessed features (training set):\")\n",
    "\n",
    "display(X_train_preprocessed.head())"
   ]
  },
  {
   "cell_type": "code",
   "execution_count": 12,
   "id": "b5c7b779-3dc3-4ffa-b0dc-d2d0c4b2d2eb",
   "metadata": {},
   "outputs": [
    {
     "name": "stdout",
     "output_type": "stream",
     "text": [
      "\n",
      "Feature names after preprocessing:\n",
      "['Squad Value', 'Net Summer Transfer Spend', 'Retained Manager?', 'Average Attendance', 'Wage Bill', 'Retained Captain?', 'Previous Season Disciplinary Points', 'Net Number of Transfers', 'Previous Season Goal Difference', 'Previous Season Position', 'Games Played', 'Number of Managers employed in the season']\n"
     ]
    }
   ],
   "source": [
    "# Print feature names after preprocessing\n",
    "\n",
    "print(\"\\nFeature names after preprocessing:\")\n",
    "\n",
    "print(X_train_preprocessed.columns.tolist())"
   ]
  },
  {
   "cell_type": "code",
   "execution_count": 13,
   "id": "afed57a2-7333-46bf-95c3-c539f21f4c05",
   "metadata": {},
   "outputs": [
    {
     "data": {
      "text/html": [
       "<style>#sk-container-id-1 {color: black;}#sk-container-id-1 pre{padding: 0;}#sk-container-id-1 div.sk-toggleable {background-color: white;}#sk-container-id-1 label.sk-toggleable__label {cursor: pointer;display: block;width: 100%;margin-bottom: 0;padding: 0.3em;box-sizing: border-box;text-align: center;}#sk-container-id-1 label.sk-toggleable__label-arrow:before {content: \"▸\";float: left;margin-right: 0.25em;color: #696969;}#sk-container-id-1 label.sk-toggleable__label-arrow:hover:before {color: black;}#sk-container-id-1 div.sk-estimator:hover label.sk-toggleable__label-arrow:before {color: black;}#sk-container-id-1 div.sk-toggleable__content {max-height: 0;max-width: 0;overflow: hidden;text-align: left;background-color: #f0f8ff;}#sk-container-id-1 div.sk-toggleable__content pre {margin: 0.2em;color: black;border-radius: 0.25em;background-color: #f0f8ff;}#sk-container-id-1 input.sk-toggleable__control:checked~div.sk-toggleable__content {max-height: 200px;max-width: 100%;overflow: auto;}#sk-container-id-1 input.sk-toggleable__control:checked~label.sk-toggleable__label-arrow:before {content: \"▾\";}#sk-container-id-1 div.sk-estimator input.sk-toggleable__control:checked~label.sk-toggleable__label {background-color: #d4ebff;}#sk-container-id-1 div.sk-label input.sk-toggleable__control:checked~label.sk-toggleable__label {background-color: #d4ebff;}#sk-container-id-1 input.sk-hidden--visually {border: 0;clip: rect(1px 1px 1px 1px);clip: rect(1px, 1px, 1px, 1px);height: 1px;margin: -1px;overflow: hidden;padding: 0;position: absolute;width: 1px;}#sk-container-id-1 div.sk-estimator {font-family: monospace;background-color: #f0f8ff;border: 1px dotted black;border-radius: 0.25em;box-sizing: border-box;margin-bottom: 0.5em;}#sk-container-id-1 div.sk-estimator:hover {background-color: #d4ebff;}#sk-container-id-1 div.sk-parallel-item::after {content: \"\";width: 100%;border-bottom: 1px solid gray;flex-grow: 1;}#sk-container-id-1 div.sk-label:hover label.sk-toggleable__label {background-color: #d4ebff;}#sk-container-id-1 div.sk-serial::before {content: \"\";position: absolute;border-left: 1px solid gray;box-sizing: border-box;top: 0;bottom: 0;left: 50%;z-index: 0;}#sk-container-id-1 div.sk-serial {display: flex;flex-direction: column;align-items: center;background-color: white;padding-right: 0.2em;padding-left: 0.2em;position: relative;}#sk-container-id-1 div.sk-item {position: relative;z-index: 1;}#sk-container-id-1 div.sk-parallel {display: flex;align-items: stretch;justify-content: center;background-color: white;position: relative;}#sk-container-id-1 div.sk-item::before, #sk-container-id-1 div.sk-parallel-item::before {content: \"\";position: absolute;border-left: 1px solid gray;box-sizing: border-box;top: 0;bottom: 0;left: 50%;z-index: -1;}#sk-container-id-1 div.sk-parallel-item {display: flex;flex-direction: column;z-index: 1;position: relative;background-color: white;}#sk-container-id-1 div.sk-parallel-item:first-child::after {align-self: flex-end;width: 50%;}#sk-container-id-1 div.sk-parallel-item:last-child::after {align-self: flex-start;width: 50%;}#sk-container-id-1 div.sk-parallel-item:only-child::after {width: 0;}#sk-container-id-1 div.sk-dashed-wrapped {border: 1px dashed gray;margin: 0 0.4em 0.5em 0.4em;box-sizing: border-box;padding-bottom: 0.4em;background-color: white;}#sk-container-id-1 div.sk-label label {font-family: monospace;font-weight: bold;display: inline-block;line-height: 1.2em;}#sk-container-id-1 div.sk-label-container {text-align: center;}#sk-container-id-1 div.sk-container {/* jupyter's `normalize.less` sets `[hidden] { display: none; }` but bootstrap.min.css set `[hidden] { display: none !important; }` so we also need the `!important` here to be able to override the default hidden behavior on the sphinx rendered scikit-learn.org. See: https://github.com/scikit-learn/scikit-learn/issues/21755 */display: inline-block !important;position: relative;}#sk-container-id-1 div.sk-text-repr-fallback {display: none;}</style><div id=\"sk-container-id-1\" class=\"sk-top-container\"><div class=\"sk-text-repr-fallback\"><pre>RandomForestClassifier(random_state=42)</pre><b>In a Jupyter environment, please rerun this cell to show the HTML representation or trust the notebook. <br />On GitHub, the HTML representation is unable to render, please try loading this page with nbviewer.org.</b></div><div class=\"sk-container\" hidden><div class=\"sk-item\"><div class=\"sk-estimator sk-toggleable\"><input class=\"sk-toggleable__control sk-hidden--visually\" id=\"sk-estimator-id-1\" type=\"checkbox\" checked><label for=\"sk-estimator-id-1\" class=\"sk-toggleable__label sk-toggleable__label-arrow\">RandomForestClassifier</label><div class=\"sk-toggleable__content\"><pre>RandomForestClassifier(random_state=42)</pre></div></div></div></div></div>"
      ],
      "text/plain": [
       "RandomForestClassifier(random_state=42)"
      ]
     },
     "execution_count": 13,
     "metadata": {},
     "output_type": "execute_result"
    }
   ],
   "source": [
    "# Train a RandomForest model\n",
    "\n",
    "rf = RandomForestClassifier(random_state=42)\n",
    "\n",
    "rf.fit(X_train_preprocessed, y_train)"
   ]
  },
  {
   "cell_type": "code",
   "execution_count": 14,
   "id": "379760a4-6780-4b9a-b140-18aef85f99ac",
   "metadata": {},
   "outputs": [],
   "source": [
    "# Make predictions\n",
    "\n",
    "y_pred = rf.predict(X_test_preprocessed)"
   ]
  },
  {
   "cell_type": "code",
   "execution_count": 15,
   "id": "558e54cc-d5ba-4ec3-8b6f-f77ee010ac8a",
   "metadata": {},
   "outputs": [
    {
     "name": "stdout",
     "output_type": "stream",
     "text": [
      "\n",
      "Classification Report:\n",
      "              precision    recall  f1-score   support\n",
      "\n",
      "           0       0.75      1.00      0.86         3\n",
      "           1       1.00      0.92      0.96        12\n",
      "           2       1.00      1.00      1.00         9\n",
      "\n",
      "    accuracy                           0.96        24\n",
      "   macro avg       0.92      0.97      0.94        24\n",
      "weighted avg       0.97      0.96      0.96        24\n",
      "\n",
      "\n",
      "Confusion Matrix:\n",
      "[[ 3  0  0]\n",
      " [ 1 11  0]\n",
      " [ 0  0  9]]\n"
     ]
    }
   ],
   "source": [
    "# Evaluate the model\n",
    "\n",
    "print(\"\\nClassification Report:\")\n",
    "\n",
    "print(classification_report(y_test, y_pred))\n",
    "\n",
    "print(\"\\nConfusion Matrix:\")\n",
    "\n",
    "print(confusion_matrix(y_test, y_pred))"
   ]
  },
  {
   "cell_type": "code",
   "execution_count": 16,
   "id": "c7f4bc79-b284-47d4-af44-1896ba7df592",
   "metadata": {},
   "outputs": [
    {
     "data": {
      "image/png": "[encoded data removed]",
      "text/plain": [
       "<Figure size 1000x700 with 2 Axes>"
      ]
     },
     "metadata": {},
     "output_type": "display_data"
    }
   ],
   "source": [
    "# Visualize the confusion matrix\n",
    "\n",
    "plt.figure(figsize=(10, 7))\n",
    "conf_matrix = confusion_matrix(y_test, y_pred)\n",
    "plt.imshow(conf_matrix, cmap='coolwarm', interpolation='none')\n",
    "plt.colorbar()\n",
    "plt.title('Confusion Matrix')\n",
    "plt.xlabel('Predicted')\n",
    "plt.ylabel('Actual')\n",
    "plt.show()"
   ]
  },
  {
   "cell_type": "code",
   "execution_count": 17,
   "id": "cb0d122a-d36c-4757-b39b-6df7fcc79f5d",
   "metadata": {},
   "outputs": [
    {
     "name": "stdout",
     "output_type": "stream",
     "text": [
      "\n",
      "Top 10 Most Important Features:\n",
      "   Importance                                    Feature\n",
      "0    0.198235                                Squad Value\n",
      "1    0.143390                                  Wage Bill\n",
      "2    0.123374                               Games Played\n",
      "3    0.103833            Previous Season Goal Difference\n",
      "4    0.096915                   Previous Season Position\n",
      "5    0.078987        Previous Season Disciplinary Points\n",
      "6    0.072779                  Net Summer Transfer Spend\n",
      "7    0.071042                         Average Attendance\n",
      "8    0.042149  Number of Managers employed in the season\n",
      "9    0.041388                    Net Number of Transfers\n"
     ]
    },
    {
     "data": {
      "text/plain": [
       "<Figure size 1000x600 with 0 Axes>"
      ]
     },
     "metadata": {},
     "output_type": "display_data"
    },
    {
     "data": {
      "image/png": "[encoded data removed]",
      "text/plain": [
       "<Figure size 640x480 with 1 Axes>"
      ]
     },
     "metadata": {},
     "output_type": "display_data"
    }
   ],
   "source": [
    "# Get feature importances\n",
    "\n",
    "importances = rf.feature_importances_\n",
    "feature_imp = pd.DataFrame(sorted(zip(importances, X_train_preprocessed.columns), reverse=True), \n",
    "                           columns=['Importance', 'Feature'])\n",
    "\n",
    "# Display top 10 most important features\n",
    "\n",
    "print(\"\\nTop 10 Most Important Features:\")\n",
    "\n",
    "print(feature_imp.head(10))\n",
    "\n",
    "# Visualize feature importances\n",
    "\n",
    "plt.figure(figsize=(10, 6))\n",
    "feature_imp.head(10).plot(x='Feature', y='Importance', kind='bar')\n",
    "plt.title('Top 10 Feature Importances')\n",
    "plt.tight_layout()\n",
    "plt.show()"
   ]
  }
 ],
 "metadata": {
  "kernelspec": {
   "display_name": "Python 3 (ipykernel)",
   "language": "python",
   "name": "python3"
  },
  "language_info": {
   "codemirror_mode": {
    "name": "ipython",
    "version": 3
   },
   "file_extension": ".py",
   "mimetype": "text/x-python",
   "name": "python",
   "nbconvert_exporter": "python",
   "pygments_lexer": "ipython3",
   "version": "3.10.13"
  },
  "widgets": {
   "application/vnd.jupyter.widget-state+json": {
    "state": {},
    "version_major": 2,
    "version_minor": 0
   }
  }
 },
 "nbformat": 4,
 "nbformat_minor": 5
}
